{
  "cells": [
    {
      "cell_type": "code",
      "execution_count": null,
      "id": "bc4266f7",
      "metadata": {
        "id": "bc4266f7"
      },
      "outputs": [],
      "source": [
        "# import all packages\n",
        "\n",
        "import pandas as pd\n",
        "import numpy as np\n",
        "from datetime import timedelta, datetime\n",
        "\n",
        "from sklearn.model_selection import train_test_split\n",
        "from sklearn.metrics import mean_squared_error\n",
        "\n",
        "#import xgboost as xgb\n",
        "\n",
        "import plotly.graph_objects as go\n",
        "\n",
        "import os\n",
        "import datetime\n",
        "\n",
        "import IPython\n",
        "import IPython.display\n",
        "import matplotlib as mpl\n",
        "import matplotlib.pyplot as plt\n",
        "import numpy as np\n",
        "import pandas as pd\n",
        "import seaborn as sns\n",
        "import tensorflow as tf\n",
        "\n",
        "import numpy as np\n",
        "import pandas as pd\n",
        "import seaborn as sns\n",
        "import matplotlib.pyplot as plt\n",
        "from sklearn.model_selection import train_test_split,cross_val_score\n",
        "from sklearn.ensemble import RandomForestClassifier,RandomForestRegressor\n",
        "from sklearn.metrics import classification_report,confusion_matrix,accuracy_score\n",
        "from sklearn.neighbors import KNeighborsClassifier,KNeighborsRegressor\n",
        "from sklearn.svm import SVC,SVR\n",
        "from sklearn import datasets\n",
        "import scipy.stats as stats\n",
        "\n",
        "mpl.rcParams['figure.figsize'] = (8, 6)\n",
        "mpl.rcParams['axes.grid'] = False\n",
        "\n",
        "# import packages\n",
        "import tensorflow as tf\n",
        "from tensorflow import keras\n",
        "from tensorflow.keras import layers\n",
        "from tensorflow.keras.layers import Dense, SimpleRNN, Input, ConvLSTM2D, Conv2D, LSTM,Flatten,Reshape, concatenate, Conv3D\n",
        "from tensorflow.keras.models import Model\n",
        "from tensorflow.keras.callbacks import EarlyStopping as ES\n",
        "from sklearn.preprocessing import MinMaxScaler\n",
        "from tsaug.visualization import plot as PLOT\n",
        "from tqdm import tqdm"
      ]
    },
    {
      "cell_type": "code",
      "execution_count": null,
      "id": "3d5d99c1",
      "metadata": {
        "id": "3d5d99c1",
        "outputId": "cce21aea-590b-43fd-ec22-6a7596a4bfa9"
      },
      "outputs": [
        {
          "data": {
            "text/html": [
              "<div>\n",
              "<style scoped>\n",
              "    .dataframe tbody tr th:only-of-type {\n",
              "        vertical-align: middle;\n",
              "    }\n",
              "\n",
              "    .dataframe tbody tr th {\n",
              "        vertical-align: top;\n",
              "    }\n",
              "\n",
              "    .dataframe thead th {\n",
              "        text-align: right;\n",
              "    }\n",
              "</style>\n",
              "<table border=\"1\" class=\"dataframe\">\n",
              "  <thead>\n",
              "    <tr style=\"text-align: right;\">\n",
              "      <th></th>\n",
              "      <th>datetime</th>\n",
              "      <th>BHP(kg/cm2)</th>\n",
              "      <th>OR(m3/day)</th>\n",
              "      <th>CO(m3)</th>\n",
              "      <th>CG(m3)</th>\n",
              "      <th>GR(m3/day)</th>\n",
              "      <th>WR(m3/day)</th>\n",
              "    </tr>\n",
              "  </thead>\n",
              "  <tbody>\n",
              "    <tr>\n",
              "      <th>0</th>\n",
              "      <td>2014-06-01</td>\n",
              "      <td>279.35</td>\n",
              "      <td>2077.00</td>\n",
              "      <td>2077.00</td>\n",
              "      <td>2.356428e+05</td>\n",
              "      <td>235642.78</td>\n",
              "      <td>0.00</td>\n",
              "    </tr>\n",
              "    <tr>\n",
              "      <th>1</th>\n",
              "      <td>2014-06-02</td>\n",
              "      <td>276.65</td>\n",
              "      <td>2077.00</td>\n",
              "      <td>4154.00</td>\n",
              "      <td>4.712856e+05</td>\n",
              "      <td>235642.78</td>\n",
              "      <td>0.00</td>\n",
              "    </tr>\n",
              "    <tr>\n",
              "      <th>2</th>\n",
              "      <td>2014-06-03</td>\n",
              "      <td>275.20</td>\n",
              "      <td>2077.00</td>\n",
              "      <td>6231.00</td>\n",
              "      <td>7.069283e+05</td>\n",
              "      <td>235642.75</td>\n",
              "      <td>0.00</td>\n",
              "    </tr>\n",
              "    <tr>\n",
              "      <th>3</th>\n",
              "      <td>2014-06-04</td>\n",
              "      <td>274.15</td>\n",
              "      <td>2077.00</td>\n",
              "      <td>8308.00</td>\n",
              "      <td>9.425711e+05</td>\n",
              "      <td>235642.81</td>\n",
              "      <td>0.00</td>\n",
              "    </tr>\n",
              "    <tr>\n",
              "      <th>4</th>\n",
              "      <td>2014-06-05</td>\n",
              "      <td>273.30</td>\n",
              "      <td>2077.00</td>\n",
              "      <td>10385.00</td>\n",
              "      <td>1.178214e+06</td>\n",
              "      <td>235642.75</td>\n",
              "      <td>0.00</td>\n",
              "    </tr>\n",
              "    <tr>\n",
              "      <th>...</th>\n",
              "      <td>...</td>\n",
              "      <td>...</td>\n",
              "      <td>...</td>\n",
              "      <td>...</td>\n",
              "      <td>...</td>\n",
              "      <td>...</td>\n",
              "      <td>...</td>\n",
              "    </tr>\n",
              "    <tr>\n",
              "      <th>2247</th>\n",
              "      <td>2020-07-26</td>\n",
              "      <td>224.93</td>\n",
              "      <td>298.38</td>\n",
              "      <td>1849836.13</td>\n",
              "      <td>2.068786e+08</td>\n",
              "      <td>34896.00</td>\n",
              "      <td>55.66</td>\n",
              "    </tr>\n",
              "    <tr>\n",
              "      <th>2248</th>\n",
              "      <td>2020-07-27</td>\n",
              "      <td>224.80</td>\n",
              "      <td>298.25</td>\n",
              "      <td>1850134.38</td>\n",
              "      <td>2.069135e+08</td>\n",
              "      <td>34880.00</td>\n",
              "      <td>55.76</td>\n",
              "    </tr>\n",
              "    <tr>\n",
              "      <th>2249</th>\n",
              "      <td>2020-07-28</td>\n",
              "      <td>224.68</td>\n",
              "      <td>298.13</td>\n",
              "      <td>1850432.50</td>\n",
              "      <td>2.069484e+08</td>\n",
              "      <td>34864.00</td>\n",
              "      <td>55.85</td>\n",
              "    </tr>\n",
              "    <tr>\n",
              "      <th>2250</th>\n",
              "      <td>2020-07-29</td>\n",
              "      <td>224.56</td>\n",
              "      <td>298.13</td>\n",
              "      <td>1850730.63</td>\n",
              "      <td>2.069832e+08</td>\n",
              "      <td>34848.00</td>\n",
              "      <td>55.95</td>\n",
              "    </tr>\n",
              "    <tr>\n",
              "      <th>2251</th>\n",
              "      <td>2020-07-30</td>\n",
              "      <td>224.45</td>\n",
              "      <td>297.88</td>\n",
              "      <td>1851028.50</td>\n",
              "      <td>2.070180e+08</td>\n",
              "      <td>34832.00</td>\n",
              "      <td>56.03</td>\n",
              "    </tr>\n",
              "  </tbody>\n",
              "</table>\n",
              "<p>2252 rows × 7 columns</p>\n",
              "</div>"
            ],
            "text/plain": [
              "       datetime  BHP(kg/cm2)  OR(m3/day)      CO(m3)        CG(m3)  \\\n",
              "0    2014-06-01       279.35     2077.00     2077.00  2.356428e+05   \n",
              "1    2014-06-02       276.65     2077.00     4154.00  4.712856e+05   \n",
              "2    2014-06-03       275.20     2077.00     6231.00  7.069283e+05   \n",
              "3    2014-06-04       274.15     2077.00     8308.00  9.425711e+05   \n",
              "4    2014-06-05       273.30     2077.00    10385.00  1.178214e+06   \n",
              "...         ...          ...         ...         ...           ...   \n",
              "2247 2020-07-26       224.93      298.38  1849836.13  2.068786e+08   \n",
              "2248 2020-07-27       224.80      298.25  1850134.38  2.069135e+08   \n",
              "2249 2020-07-28       224.68      298.13  1850432.50  2.069484e+08   \n",
              "2250 2020-07-29       224.56      298.13  1850730.63  2.069832e+08   \n",
              "2251 2020-07-30       224.45      297.88  1851028.50  2.070180e+08   \n",
              "\n",
              "      GR(m3/day)  WR(m3/day)  \n",
              "0      235642.78        0.00  \n",
              "1      235642.78        0.00  \n",
              "2      235642.75        0.00  \n",
              "3      235642.81        0.00  \n",
              "4      235642.75        0.00  \n",
              "...          ...         ...  \n",
              "2247    34896.00       55.66  \n",
              "2248    34880.00       55.76  \n",
              "2249    34864.00       55.85  \n",
              "2250    34848.00       55.95  \n",
              "2251    34832.00       56.03  \n",
              "\n",
              "[2252 rows x 7 columns]"
            ]
          },
          "execution_count": 9,
          "metadata": {},
          "output_type": "execute_result"
        }
      ],
      "source": [
        "df = pd.read_excel(\"D:\\\\hassan sharifi\\\\milad's project\\\\aege\\\\nawell data preprosecing\\\\data_new.xlsx\")\n",
        "df"
      ]
    },
    {
      "cell_type": "code",
      "execution_count": null,
      "id": "a001c899",
      "metadata": {
        "id": "a001c899",
        "outputId": "898c5a40-cac6-4702-e922-a82adb5e2b72"
      },
      "outputs": [
        {
          "data": {
            "text/html": [
              "<div>\n",
              "<style scoped>\n",
              "    .dataframe tbody tr th:only-of-type {\n",
              "        vertical-align: middle;\n",
              "    }\n",
              "\n",
              "    .dataframe tbody tr th {\n",
              "        vertical-align: top;\n",
              "    }\n",
              "\n",
              "    .dataframe thead th {\n",
              "        text-align: right;\n",
              "    }\n",
              "</style>\n",
              "<table border=\"1\" class=\"dataframe\">\n",
              "  <thead>\n",
              "    <tr style=\"text-align: right;\">\n",
              "      <th></th>\n",
              "      <th>BHP(kg/cm2)</th>\n",
              "      <th>OR(m3/day)</th>\n",
              "      <th>CO(m3)</th>\n",
              "      <th>CG(m3)</th>\n",
              "      <th>GR(m3/day)</th>\n",
              "      <th>WR(m3/day)</th>\n",
              "      <th>Day</th>\n",
              "      <th>Year</th>\n",
              "    </tr>\n",
              "  </thead>\n",
              "  <tbody>\n",
              "    <tr>\n",
              "      <th>0</th>\n",
              "      <td>279.35</td>\n",
              "      <td>2077.00</td>\n",
              "      <td>2077.00</td>\n",
              "      <td>2.356428e+05</td>\n",
              "      <td>235642.78</td>\n",
              "      <td>0.00</td>\n",
              "      <td>5.008279</td>\n",
              "      <td>2.445698</td>\n",
              "    </tr>\n",
              "    <tr>\n",
              "      <th>1</th>\n",
              "      <td>276.65</td>\n",
              "      <td>2077.00</td>\n",
              "      <td>4154.00</td>\n",
              "      <td>4.712856e+05</td>\n",
              "      <td>235642.78</td>\n",
              "      <td>0.00</td>\n",
              "      <td>5.008306</td>\n",
              "      <td>2.445725</td>\n",
              "    </tr>\n",
              "    <tr>\n",
              "      <th>2</th>\n",
              "      <td>275.20</td>\n",
              "      <td>2077.00</td>\n",
              "      <td>6231.00</td>\n",
              "      <td>7.069283e+05</td>\n",
              "      <td>235642.75</td>\n",
              "      <td>0.00</td>\n",
              "      <td>5.008333</td>\n",
              "      <td>2.445751</td>\n",
              "    </tr>\n",
              "    <tr>\n",
              "      <th>3</th>\n",
              "      <td>274.15</td>\n",
              "      <td>2077.00</td>\n",
              "      <td>8308.00</td>\n",
              "      <td>9.425711e+05</td>\n",
              "      <td>235642.81</td>\n",
              "      <td>0.00</td>\n",
              "      <td>5.008360</td>\n",
              "      <td>2.445778</td>\n",
              "    </tr>\n",
              "    <tr>\n",
              "      <th>4</th>\n",
              "      <td>273.30</td>\n",
              "      <td>2077.00</td>\n",
              "      <td>10385.00</td>\n",
              "      <td>1.178214e+06</td>\n",
              "      <td>235642.75</td>\n",
              "      <td>0.00</td>\n",
              "      <td>5.008386</td>\n",
              "      <td>2.445805</td>\n",
              "    </tr>\n",
              "    <tr>\n",
              "      <th>...</th>\n",
              "      <td>...</td>\n",
              "      <td>...</td>\n",
              "      <td>...</td>\n",
              "      <td>...</td>\n",
              "      <td>...</td>\n",
              "      <td>...</td>\n",
              "      <td>...</td>\n",
              "      <td>...</td>\n",
              "    </tr>\n",
              "    <tr>\n",
              "      <th>2247</th>\n",
              "      <td>224.93</td>\n",
              "      <td>298.38</td>\n",
              "      <td>1849836.13</td>\n",
              "      <td>2.068786e+08</td>\n",
              "      <td>34896.00</td>\n",
              "      <td>55.66</td>\n",
              "      <td>5.064619</td>\n",
              "      <td>2.502038</td>\n",
              "    </tr>\n",
              "    <tr>\n",
              "      <th>2248</th>\n",
              "      <td>224.80</td>\n",
              "      <td>298.25</td>\n",
              "      <td>1850134.38</td>\n",
              "      <td>2.069135e+08</td>\n",
              "      <td>34880.00</td>\n",
              "      <td>55.76</td>\n",
              "      <td>5.064642</td>\n",
              "      <td>2.502061</td>\n",
              "    </tr>\n",
              "    <tr>\n",
              "      <th>2249</th>\n",
              "      <td>224.68</td>\n",
              "      <td>298.13</td>\n",
              "      <td>1850432.50</td>\n",
              "      <td>2.069484e+08</td>\n",
              "      <td>34864.00</td>\n",
              "      <td>55.85</td>\n",
              "      <td>5.064666</td>\n",
              "      <td>2.502085</td>\n",
              "    </tr>\n",
              "    <tr>\n",
              "      <th>2250</th>\n",
              "      <td>224.56</td>\n",
              "      <td>298.13</td>\n",
              "      <td>1850730.63</td>\n",
              "      <td>2.069832e+08</td>\n",
              "      <td>34848.00</td>\n",
              "      <td>55.95</td>\n",
              "      <td>5.064689</td>\n",
              "      <td>2.502108</td>\n",
              "    </tr>\n",
              "    <tr>\n",
              "      <th>2251</th>\n",
              "      <td>224.45</td>\n",
              "      <td>297.88</td>\n",
              "      <td>1851028.50</td>\n",
              "      <td>2.070180e+08</td>\n",
              "      <td>34832.00</td>\n",
              "      <td>56.03</td>\n",
              "      <td>5.064713</td>\n",
              "      <td>2.502132</td>\n",
              "    </tr>\n",
              "  </tbody>\n",
              "</table>\n",
              "<p>2252 rows × 8 columns</p>\n",
              "</div>"
            ],
            "text/plain": [
              "      BHP(kg/cm2)  OR(m3/day)      CO(m3)        CG(m3)  GR(m3/day)  \\\n",
              "0          279.35     2077.00     2077.00  2.356428e+05   235642.78   \n",
              "1          276.65     2077.00     4154.00  4.712856e+05   235642.78   \n",
              "2          275.20     2077.00     6231.00  7.069283e+05   235642.75   \n",
              "3          274.15     2077.00     8308.00  9.425711e+05   235642.81   \n",
              "4          273.30     2077.00    10385.00  1.178214e+06   235642.75   \n",
              "...           ...         ...         ...           ...         ...   \n",
              "2247       224.93      298.38  1849836.13  2.068786e+08    34896.00   \n",
              "2248       224.80      298.25  1850134.38  2.069135e+08    34880.00   \n",
              "2249       224.68      298.13  1850432.50  2.069484e+08    34864.00   \n",
              "2250       224.56      298.13  1850730.63  2.069832e+08    34848.00   \n",
              "2251       224.45      297.88  1851028.50  2.070180e+08    34832.00   \n",
              "\n",
              "      WR(m3/day)       Day      Year  \n",
              "0           0.00  5.008279  2.445698  \n",
              "1           0.00  5.008306  2.445725  \n",
              "2           0.00  5.008333  2.445751  \n",
              "3           0.00  5.008360  2.445778  \n",
              "4           0.00  5.008386  2.445805  \n",
              "...          ...       ...       ...  \n",
              "2247       55.66  5.064619  2.502038  \n",
              "2248       55.76  5.064642  2.502061  \n",
              "2249       55.85  5.064666  2.502085  \n",
              "2250       55.95  5.064689  2.502108  \n",
              "2251       56.03  5.064713  2.502132  \n",
              "\n",
              "[2252 rows x 8 columns]"
            ]
          },
          "execution_count": 10,
          "metadata": {},
          "output_type": "execute_result"
        }
      ],
      "source": [
        "date_time = pd.to_datetime(df.pop('datetime'), format='%d.%m.%Y')\n",
        "timestamp_s = date_time.map(datetime.datetime.timestamp)\n",
        "day = 24*60*60\n",
        "year = (365.2425)*day\n",
        "\n",
        "df['Day'] = np.log10(timestamp_s * (2 * np.pi / day))\n",
        "df['Year'] = np.log10(timestamp_s * (2 * np.pi / year))\n",
        "df"
      ]
    },
    {
      "cell_type": "code",
      "execution_count": null,
      "id": "e22203dc",
      "metadata": {
        "id": "e22203dc",
        "outputId": "2edb9f6e-f382-45fb-e1a5-81e475e6d74e"
      },
      "outputs": [
        {
          "name": "stdout",
          "output_type": "stream",
          "text": [
            "      BHP(kg/cm2)  OR(m3/day)    CO(m3)    CG(m3)  GR(m3/day)  WR(m3/day)  \\\n",
            "0        3.173398    1.804677 -2.308254 -2.325105    1.823915   -1.094874   \n",
            "1        3.049717    1.804677 -2.302538 -2.319288    1.823915   -1.094874   \n",
            "2        2.983296    1.804677 -2.296822 -2.313471    1.823914   -1.094874   \n",
            "3        2.935198    1.804677 -2.291105 -2.307654    1.823915   -1.094874   \n",
            "4        2.896261    1.804677 -2.285389 -2.301837    1.823914   -1.094874   \n",
            "...           ...         ...       ...       ...         ...         ...   \n",
            "1571    -0.704682   -0.208145  0.996668  0.990969   -0.221702   -0.028208   \n",
            "1572    -0.706056   -0.208145  0.998356  0.992630   -0.222091   -0.025712   \n",
            "1573    -0.706972   -0.208489  1.000044  0.994291   -0.222285   -0.022661   \n",
            "1574    -0.708347   -0.208489  1.001732  0.995951   -0.222480   -0.020165   \n",
            "1575    -0.709263   -0.208489  1.003419  0.997610   -0.222674   -0.017669   \n",
            "\n",
            "           Day      Year  \n",
            "0    -1.757533 -1.757533  \n",
            "1    -1.755230 -1.755230  \n",
            "2    -1.752928 -1.752928  \n",
            "3    -1.750625 -1.750625  \n",
            "4    -1.748323 -1.748323  \n",
            "...        ...       ...  \n",
            "1571  1.695630  1.695630  \n",
            "1572  1.697817  1.697817  \n",
            "1573  1.699916  1.699916  \n",
            "1574  1.702015  1.702015  \n",
            "1575  1.704114  1.704114  \n",
            "\n",
            "[1576 rows x 8 columns]\n"
          ]
        },
        {
          "data": {
            "image/png": "[encoded data removed]",
            "text/plain": [
              "<Figure size 864x432 with 1 Axes>"
            ]
          },
          "metadata": {
            "needs_background": "light"
          },
          "output_type": "display_data"
        }
      ],
      "source": [
        "column_indices = {name: i for i, name in enumerate(df.columns)}\n",
        "\n",
        "n = len(df)\n",
        "train_df = df[0:int(n*0.7)]\n",
        "#val_df = df[int(n*0.7):int(n*0.9)]\n",
        "#test_df = df[int(n*0.9):]\n",
        "test_df = df[int(n*0.7):]\n",
        "num_features = df.shape[1]\n",
        "\n",
        "train_mean = train_df.mean()\n",
        "train_std = train_df.std()\n",
        "\n",
        "Train_df = (train_df - train_mean) / train_std\n",
        "#Val_df = (val_df - train_mean) / train_std\n",
        "Test_df = (test_df - train_mean) / train_std\n",
        "\n",
        "print(Train_df)\n",
        "\n",
        "df_std = (df - train_mean) / train_std\n",
        "df_std = df_std.melt(var_name='Column', value_name='Normalized')\n",
        "plt.figure(figsize=(12, 6))\n",
        "ax = sns.violinplot(x='Column', y='Normalized', data=df_std)\n",
        "_ = ax.set_xticklabels(df.keys(), rotation=90)"
      ]
    },
    {
      "cell_type": "code",
      "execution_count": null,
      "id": "451c28a4",
      "metadata": {
        "id": "451c28a4"
      },
      "outputs": [],
      "source": [
        "def convertToDataset(data, step):\n",
        "    #data = np.append(data,np.repeat(data[-1,],step))\n",
        "    X, Y =[], []\n",
        "    for i in range(len(data)-step):\n",
        "        d=i+step\n",
        "        X.append(data[i:d,])\n",
        "        Y.append(data[d,])\n",
        "    return np.array(X), np.array(Y)"
      ]
    },
    {
      "cell_type": "markdown",
      "id": "0e17c282",
      "metadata": {
        "id": "0e17c282"
      },
      "source": [
        "## make a new type of img data from numeric data"
      ]
    },
    {
      "cell_type": "code",
      "execution_count": null,
      "id": "cfd58a28",
      "metadata": {
        "id": "cfd58a28",
        "outputId": "289dab5f-e94d-4cfc-db0d-1df4ed439334"
      },
      "outputs": [
        {
          "name": "stdout",
          "output_type": "stream",
          "text": [
            "(1476, 100)\n",
            "(576, 100)\n"
          ]
        }
      ],
      "source": [
        "train_step = 100\n",
        "test_step = 100\n",
        "OR_tr = []\n",
        "OR_ts = []\n",
        "BHP_tr = []\n",
        "BHP_ts = []\n",
        "for i in Train_df.columns[0:2]:\n",
        "    trainX,trainY =convertToDataset(Train_df[i].values,train_step)\n",
        "    testX,testY =convertToDataset(Test_df[i].values,test_step)\n",
        "    if i=='OR(m3/day)':\n",
        "        OR_tr.extend([trainX,trainY])\n",
        "        OR_ts.extend([testX,testY])\n",
        "    else:\n",
        "        BHP_tr.append(trainX)\n",
        "        BHP_ts.append(testX)\n",
        "\n",
        "print(trainX.shape)\n",
        "print(testX.shape)\n",
        "del trainX\n",
        "del testX\n",
        "\n",
        "trainY = OR_tr[1]\n",
        "testY = OR_ts[1]\n",
        "\n",
        "OR_tr = OR_tr[0]\n",
        "OR_ts = OR_ts[0]\n",
        "\n",
        "BHP_tr = BHP_tr[0]\n",
        "BHP_ts = BHP_ts[0]\n",
        "#trainX = np.reshape(trainX, (trainX.shape[0],  trainX.shape[1], n_bit))\n",
        "#testX = np.reshape(testX, (testX.shape[0],testX.shape[1], n_bit))"
      ]
    },
    {
      "cell_type": "code",
      "execution_count": null,
      "id": "9842da13",
      "metadata": {
        "id": "9842da13",
        "outputId": "8bf55cbc-e258-46fb-bc20-bf6290b503a8"
      },
      "outputs": [
        {
          "name": "stdout",
          "output_type": "stream",
          "text": [
            "One OR batch shape: (100,)\n",
            "(100, 1)\n",
            "(100, 32)\n"
          ]
        },
        {
          "data": {
            "image/png": "[encoded data removed]",
            "text/plain": [
              "<Figure size 576x432 with 1 Axes>"
            ]
          },
          "metadata": {
            "needs_background": "light"
          },
          "output_type": "display_data"
        }
      ],
      "source": [
        "# for example\n",
        "print('One OR batch shape:',OR_tr[50].shape)\n",
        "a = OR_tr[50].reshape(BHP_tr[50].shape[0],1)\n",
        "a = a.reshape(a.shape[0],1)\n",
        "print(a.shape)\n",
        "for i in range(5):\n",
        "    a = np.c_[a,a]\n",
        "a.reshape(a.shape[0],a.shape[1],1)\n",
        "print(a.shape)\n",
        "plt.imshow(a,'gray');\n",
        "plt.title('image batch');"
      ]
    },
    {
      "cell_type": "code",
      "execution_count": null,
      "id": "1a1564e5",
      "metadata": {
        "id": "1a1564e5",
        "outputId": "25445d6d-c28c-4d7f-aec6-fd0fa7e748eb"
      },
      "outputs": [
        {
          "name": "stdout",
          "output_type": "stream",
          "text": [
            "(1566, 10)\n",
            "(666, 10)\n"
          ]
        }
      ],
      "source": [
        "train_step = 10\n",
        "test_step = 10\n",
        "OR_tr = []\n",
        "OR_ts = []\n",
        "BHP_tr = []\n",
        "BHP_ts = []\n",
        "for i in Train_df.columns[0:2]:\n",
        "    trainX,trainY =convertToDataset(Train_df[i].values,train_step)\n",
        "    testX,testY =convertToDataset(Test_df[i].values,test_step)\n",
        "    if i=='OR(m3/day)':\n",
        "        OR_tr.extend([trainX,trainY])\n",
        "        OR_ts.extend([testX,testY])\n",
        "    else:\n",
        "        BHP_tr.append(trainX)\n",
        "        BHP_ts.append(testX)\n",
        "\n",
        "print(trainX.shape)\n",
        "print(testX.shape)\n",
        "del trainX\n",
        "del testX\n",
        "\n",
        "trainY = OR_tr[1]\n",
        "testY = OR_ts[1]\n",
        "\n",
        "OR_tr = OR_tr[0]\n",
        "OR_ts = OR_ts[0]\n",
        "\n",
        "BHP_tr = BHP_tr[0]\n",
        "BHP_ts = BHP_ts[0]\n",
        "#trainX = np.reshape(trainX, (trainX.shape[0],  trainX.shape[1], n_bit))\n",
        "#testX = np.reshape(testX, (testX.shape[0],testX.shape[1], n_bit))"
      ]
    },
    {
      "cell_type": "markdown",
      "id": "b0e87ddf",
      "metadata": {
        "id": "b0e87ddf"
      },
      "source": [
        "**Converting every batch in train/test set from numeric batch to image batch**"
      ]
    },
    {
      "cell_type": "code",
      "execution_count": null,
      "id": "1ee49be2",
      "metadata": {
        "id": "1ee49be2",
        "outputId": "c862a171-c55c-4404-bb27-2dd3f8502493"
      },
      "outputs": [
        {
          "name": "stdout",
          "output_type": "stream",
          "text": [
            "Shape of train set: (1566, 10, 32, 1)\n"
          ]
        },
        {
          "data": {
            "image/png": "[encoded data removed]",
            "text/plain": [
              "<Figure size 576x432 with 1 Axes>"
            ]
          },
          "metadata": {
            "needs_background": "light"
          },
          "output_type": "display_data"
        },
        {
          "data": {
            "image/png": "[encoded data removed]",
            "text/plain": [
              "<Figure size 576x432 with 1 Axes>"
            ]
          },
          "metadata": {
            "needs_background": "light"
          },
          "output_type": "display_data"
        }
      ],
      "source": [
        "# Train Set\n",
        "width_of_img = 5\n",
        "\n",
        "# OR\n",
        "or_ = []\n",
        "for i in OR_tr:\n",
        "    a = i.reshape(i.shape[0],1)\n",
        "    for i in range(width_of_img):\n",
        "        a = np.c_[a,a]\n",
        "    a.reshape(a.shape[0],a.shape[1],1)\n",
        "    or_.append(a)\n",
        "OR_tr = np.array(or_)\n",
        "OR_tr = OR_tr.reshape(OR_tr.shape[0],OR_tr.shape[1],OR_tr.shape[2],1)\n",
        "del or_\n",
        "plt.figure()\n",
        "plt.imshow(OR_tr[51],'gray');\n",
        "plt.title('an OR image batch');\n",
        "\n",
        "# BHP\n",
        "bhp_ = []\n",
        "for i in BHP_tr:\n",
        "    a = i.reshape(i.shape[0],1)\n",
        "    for i in range(width_of_img):\n",
        "        a = np.c_[a,a]\n",
        "    a.reshape(a.shape[0],a.shape[1],1)\n",
        "    bhp_.append(a)\n",
        "BHP_tr = np.array(bhp_)\n",
        "BHP_tr = BHP_tr.reshape(BHP_tr.shape[0],BHP_tr.shape[1],BHP_tr.shape[2],1)\n",
        "del bhp_\n",
        "plt.figure()\n",
        "plt.imshow(BHP_tr[51],'gray');\n",
        "plt.title('an BHP image batch');\n",
        "\n",
        "print('Shape of train set:', OR_tr.shape)"
      ]
    },
    {
      "cell_type": "code",
      "execution_count": null,
      "id": "ce2c6226",
      "metadata": {
        "id": "ce2c6226",
        "outputId": "7b83db2c-2c75-456a-cf8a-8976660724de"
      },
      "outputs": [
        {
          "name": "stdout",
          "output_type": "stream",
          "text": [
            "Shape of test set: (666, 10, 32, 1)\n"
          ]
        },
        {
          "data": {
            "image/png": "[encoded data removed]",
            "text/plain": [
              "<Figure size 576x432 with 1 Axes>"
            ]
          },
          "metadata": {
            "needs_background": "light"
          },
          "output_type": "display_data"
        },
        {
          "data": {
            "image/png": "[encoded data removed]",
            "text/plain": [
              "<Figure size 576x432 with 1 Axes>"
            ]
          },
          "metadata": {
            "needs_background": "light"
          },
          "output_type": "display_data"
        }
      ],
      "source": [
        "# Test Set\n",
        "width_of_img = 5\n",
        "\n",
        "# OR\n",
        "or_ = []\n",
        "for i in OR_ts:\n",
        "    a = i.reshape(i.shape[0],1)\n",
        "    for i in range(width_of_img):\n",
        "        a = np.c_[a,a]\n",
        "    a.reshape(a.shape[0],a.shape[1],1)\n",
        "    or_.append(a)\n",
        "OR_ts = np.array(or_)\n",
        "OR_ts = OR_ts.reshape(OR_ts.shape[0],OR_ts.shape[1],OR_ts.shape[2],1)\n",
        "del or_\n",
        "plt.figure()\n",
        "plt.imshow(OR_ts[51],'gray');\n",
        "plt.title('an OR image batch');\n",
        "\n",
        "# BHP\n",
        "bhp_ = []\n",
        "for i in BHP_ts:\n",
        "    a = i.reshape(i.shape[0],1)\n",
        "    for i in range(width_of_img):\n",
        "        a = np.c_[a,a]\n",
        "    a.reshape(a.shape[0],a.shape[1],1)\n",
        "    bhp_.append(a)\n",
        "BHP_ts = np.array(bhp_)\n",
        "BHP_ts = BHP_ts.reshape(BHP_ts.shape[0],BHP_ts.shape[1],BHP_ts.shape[2],1)\n",
        "del bhp_\n",
        "plt.figure()\n",
        "plt.imshow(BHP_ts[51],'gray');\n",
        "plt.title('an BHP image batch');\n",
        "\n",
        "print('Shape of test set:', OR_ts.shape)"
      ]
    },
    {
      "cell_type": "markdown",
      "id": "9445d0c5",
      "metadata": {
        "id": "9445d0c5"
      },
      "source": [
        "**creating univariate models**"
      ]
    },
    {
      "cell_type": "code",
      "execution_count": null,
      "id": "a717a16c",
      "metadata": {
        "id": "a717a16c",
        "outputId": "a02cfbb6-58a2-42d3-e30e-bf0c56edc875"
      },
      "outputs": [
        {
          "name": "stdout",
          "output_type": "stream",
          "text": [
            "(10, 32, 1)\n"
          ]
        }
      ],
      "source": [
        "shape = OR_tr[0].shape\n",
        "print(shape)"
      ]
    },
    {
      "cell_type": "code",
      "execution_count": null,
      "id": "f00e5350",
      "metadata": {
        "id": "f00e5350"
      },
      "outputs": [],
      "source": [
        "# 1: simple 2D-CNN RNN\n",
        "input_layer = Input(shape=shape)\n",
        "conv1 = Conv2D(filters=64,kernel_size=(3,3),padding='same',activation='relu')(input_layer)\n",
        "rshp = Reshape((shape[0]*shape[1],64))(conv1)\n",
        "rnn = SimpleRNN(units = 64, activation='tanh')(rshp)\n",
        "dns = Dense(1)(rnn)\n",
        "model = Model(input_layer,dns)"
      ]
    },
    {
      "cell_type": "code",
      "execution_count": null,
      "id": "eda00c35",
      "metadata": {
        "id": "eda00c35",
        "outputId": "b33258e7-40f0-4f6f-bd5f-dbba96ce2edc"
      },
      "outputs": [
        {
          "name": "stdout",
          "output_type": "stream",
          "text": [
            "Model: \"functional_9\"\n",
            "_________________________________________________________________\n",
            "Layer (type)                 Output Shape              Param #   \n",
            "=================================================================\n",
            "input_5 (InputLayer)         [(None, 10, 32, 1)]       0         \n",
            "_________________________________________________________________\n",
            "conv2d_4 (Conv2D)            (None, 10, 32, 64)        640       \n",
            "_________________________________________________________________\n",
            "reshape_4 (Reshape)          (None, 320, 64)           0         \n",
            "_________________________________________________________________\n",
            "simple_rnn_4 (SimpleRNN)     (None, 64)                8256      \n",
            "_________________________________________________________________\n",
            "dense_4 (Dense)              (None, 1)                 65        \n",
            "=================================================================\n",
            "Total params: 8,961\n",
            "Trainable params: 8,961\n",
            "Non-trainable params: 0\n",
            "_________________________________________________________________\n"
          ]
        }
      ],
      "source": [
        "model.summary()"
      ]
    },
    {
      "cell_type": "code",
      "execution_count": null,
      "id": "5e28f4a7",
      "metadata": {
        "id": "5e28f4a7"
      },
      "outputs": [],
      "source": [
        "model.compile(loss='mean_squared_error', optimizer='adam')"
      ]
    },
    {
      "cell_type": "code",
      "execution_count": null,
      "id": "05a60762",
      "metadata": {
        "id": "05a60762",
        "outputId": "ce3694cc-f4b8-42d3-c1d7-bf5a996e56a2"
      },
      "outputs": [
        {
          "name": "stdout",
          "output_type": "stream",
          "text": [
            "Epoch 1/100\n",
            "89/89 [==============================] - 2s 27ms/step - loss: 0.0583 - val_loss: 0.0065\n",
            "Epoch 2/100\n",
            "89/89 [==============================] - 3s 28ms/step - loss: 0.0142 - val_loss: 0.0057\n",
            "Epoch 3/100\n",
            "89/89 [==============================] - 3s 28ms/step - loss: 0.0140 - val_loss: 0.0056\n",
            "Epoch 4/100\n",
            "89/89 [==============================] - 3s 29ms/step - loss: 0.0132 - val_loss: 0.0052\n",
            "Epoch 5/100\n",
            "89/89 [==============================] - 3s 28ms/step - loss: 0.0127 - val_loss: 0.0051\n",
            "Epoch 6/100\n",
            "89/89 [==============================] - 3s 29ms/step - loss: 0.0126 - val_loss: 0.0054\n",
            "Epoch 7/100\n",
            "89/89 [==============================] - 3s 29ms/step - loss: 0.0129 - val_loss: 0.0052\n",
            "Epoch 8/100\n",
            "89/89 [==============================] - 2s 28ms/step - loss: 0.0123 - val_loss: 0.0228\n",
            "Epoch 9/100\n",
            "89/89 [==============================] - 3s 28ms/step - loss: 0.0125 - val_loss: 0.0058\n",
            "Epoch 10/100\n",
            "89/89 [==============================] - 3s 28ms/step - loss: 0.0125 - val_loss: 0.0050\n",
            "Epoch 11/100\n",
            "89/89 [==============================] - 3s 28ms/step - loss: 0.0130 - val_loss: 0.0055\n",
            "Epoch 12/100\n",
            "89/89 [==============================] - 3s 29ms/step - loss: 0.0123 - val_loss: 0.0052\n",
            "Epoch 13/100\n",
            "89/89 [==============================] - 3s 28ms/step - loss: 0.0124 - val_loss: 0.0051\n",
            "Epoch 14/100\n",
            "89/89 [==============================] - 3s 28ms/step - loss: 0.0125 - val_loss: 0.0054\n",
            "Epoch 15/100\n",
            "89/89 [==============================] - 3s 28ms/step - loss: 0.0127 - val_loss: 0.0054\n",
            "Epoch 16/100\n",
            "89/89 [==============================] - 3s 29ms/step - loss: 0.0135 - val_loss: 0.0050\n",
            "Epoch 17/100\n",
            "89/89 [==============================] - 3s 28ms/step - loss: 0.0125 - val_loss: 0.0050\n",
            "Epoch 18/100\n",
            "89/89 [==============================] - 3s 29ms/step - loss: 0.0125 - val_loss: 0.0053\n",
            "Epoch 19/100\n",
            "89/89 [==============================] - 3s 28ms/step - loss: 0.0121 - val_loss: 0.0050\n",
            "Epoch 20/100\n",
            "89/89 [==============================] - 3s 28ms/step - loss: 0.0122 - val_loss: 0.0052\n"
          ]
        }
      ],
      "source": [
        "history = model.fit(OR_tr,trainY, epochs=100, batch_size=16, verbose=1, validation_split=0.1,\n",
        "                    callbacks = [ES(patience=10,monitor='val_loss',restore_best_weights=True)])"
      ]
    },
    {
      "cell_type": "code",
      "execution_count": null,
      "id": "0c40e504",
      "metadata": {
        "id": "0c40e504",
        "outputId": "13eaca95-09ab-4022-915e-28e5b77180ab"
      },
      "outputs": [
        {
          "data": {
            "text/plain": [
              "Text(0, 0.5, 'loss')"
            ]
          },
          "execution_count": 56,
          "metadata": {},
          "output_type": "execute_result"
        },
        {
          "data": {
            "image/png": "[encoded data removed]",
            "text/plain": [
              "<Figure size 576x432 with 1 Axes>"
            ]
          },
          "metadata": {
            "needs_background": "light"
          },
          "output_type": "display_data"
        }
      ],
      "source": [
        "loss = history.history['loss']\n",
        "val_loss = history.history['val_loss']\n",
        "plt.plot(loss,label='Train')\n",
        "plt.plot(val_loss,label='Validation')\n",
        "plt.legend()\n",
        "plt.xlabel('EPCH')\n",
        "plt.ylabel('loss')"
      ]
    },
    {
      "cell_type": "code",
      "execution_count": null,
      "id": "6a2ca033",
      "metadata": {
        "id": "6a2ca033"
      },
      "outputs": [],
      "source": [
        "trainPredict = model.predict(OR_tr)\n",
        "testPredict= model.predict(OR_ts)\n",
        "predicted=np.concatenate((trainPredict,testPredict),axis=0)"
      ]
    },
    {
      "cell_type": "code",
      "execution_count": null,
      "id": "de1645ae",
      "metadata": {
        "id": "de1645ae",
        "outputId": "6799d394-78eb-4d74-fb93-46b6340453e5"
      },
      "outputs": [
        {
          "data": {
            "image/png": "[encoded data removed]",
            "text/plain": [
              "<Figure size 576x432 with 1 Axes>"
            ]
          },
          "metadata": {
            "needs_background": "light"
          },
          "output_type": "display_data"
        }
      ],
      "source": [
        "X = np.r_[Train_df['OR(m3/day)'].values.reshape(-1,1),Test_df['OR(m3/day)'].values.reshape(-1,1)]\n",
        "plt.plot(X,'.-')\n",
        "plt.plot(predicted,'.')\n",
        "plt.axvline(len(OR_tr), c=\"r\")\n",
        "plt.show()"
      ]
    }
  ],
  "metadata": {
    "kernelspec": {
      "display_name": "Python 3",
      "language": "python",
      "name": "python3"
    },
    "language_info": {
      "codemirror_mode": {
        "name": "ipython",
        "version": 3
      },
      "file_extension": ".py",
      "mimetype": "text/x-python",
      "name": "python",
      "nbconvert_exporter": "python",
      "pygments_lexer": "ipython3",
      "version": "3.8.5"
    },
    "colab": {
      "provenance": []
    }
  },
  "nbformat": 4,
  "nbformat_minor": 5
}